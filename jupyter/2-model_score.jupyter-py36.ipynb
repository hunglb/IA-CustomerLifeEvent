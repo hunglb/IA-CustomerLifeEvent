{
 "cells": [
  {
   "cell_type": "markdown",
   "metadata": {
    "pycharm": {}
   },
   "source": [
    "## Test Scoring Pipeline"
   ]
  },
  {
   "cell_type": "markdown",
   "metadata": {
    "pycharm": {}
   },
   "source": [
    "### Introduction"
   ]
  },
  {
   "cell_type": "markdown",
   "metadata": {
    "pycharm": {}
   },
   "source": [
    "Now that the data has been prepared into wide format, and the machine learning model building and deployment are complete, this current notebook will:\n",
    "\n",
    "* Install dependencies that provide a unified explaination of the output of the machine learning models **(SHAP)** \n",
    "* Provide the step-by-step test and deployment of the **LIFE EVENT PREDICTION** scoring pipeline as a **Web Service**.\n",
    "* Provide the step-by-step instructions for securing changes into git and elaborates the **Project Release** steps.\n"
   ]
  },
  {
   "cell_type": "markdown",
   "metadata": {},
   "source": [
    "**Sample Materials, provided under license. <br>\n",
    "Licensed Materials - Property of IBM. <br>\n",
    "© Copyright IBM Corp. 2019. All Rights Reserved. <br>\n",
    "US Government Users Restricted Rights - Use, duplication or disclosure restricted by GSA ADP Schedule Contract with IBM Corp.<br>**"
   ]
  },
  {
   "cell_type": "markdown",
   "metadata": {
    "pycharm": {}
   },
   "source": [
    "### Install Shap\n",
    "\n",
    "This is a prerequisite for the machine learning Models explainability. This considers all type of input combinations to analyze all possible predictions and visualize the results. \n",
    "\n",
    "There are two options for installing shap.\n",
    "\n",
    "1. The casual user can uncomment the lines in the following cell and run the cell. This will install shap in the image but will not save the image for future use.\n",
    "\n",
    "2. If you would prefer to save the image, to avoid having to install shap each time, follow the instructions in the subsequent cell."
   ]
  },
  {
   "cell_type": "code",
   "execution_count": 3,
   "metadata": {
    "pycharm": {}
   },
   "outputs": [
    {
     "name": "stdout",
     "output_type": "stream",
     "text": [
      "Collecting package metadata: done\n",
      "Solving environment: done\n",
      "\n",
      "\n",
      "==> WARNING: A newer version of conda exists. <==\n",
      "  current version: 4.6.14\n",
      "  latest version: 4.7.11\n",
      "\n",
      "Please update conda by running\n",
      "\n",
      "    $ conda update -n base conda\n",
      "\n",
      "\n",
      "\n",
      "## Package Plan ##\n",
      "\n",
      "  environment location: /opt/conda3\n",
      "\n",
      "  added / updated specs:\n",
      "    - shap\n",
      "\n",
      "\n",
      "The following packages will be downloaded:\n",
      "\n",
      "    package                    |            build\n",
      "    ---------------------------|-----------------\n",
      "    _anaconda_depends-2019.03  |           py36_0           5 KB\n",
      "    _libgcc_mutex-0.1          |             main           3 KB\n",
      "    ca-certificates-2019.6.16  |       hecc5488_0         145 KB  conda-forge\n",
      "    certifi-2019.6.16          |           py36_1         149 KB  conda-forge\n",
      "    fribidi-1.0.5              |    h516909a_1002         112 KB  conda-forge\n",
      "    openssl-1.1.1c             |       h516909a_0         2.1 MB  conda-forge\n",
      "    shap-0.29.3                |   py36hb3f55d8_0         324 KB  conda-forge\n",
      "    ------------------------------------------------------------\n",
      "                                           Total:         2.8 MB\n",
      "\n",
      "The following NEW packages will be INSTALLED:\n",
      "\n",
      "  _anaconda_depends  pkgs/main/linux-64::_anaconda_depends-2019.03-py36_0\n",
      "  _libgcc_mutex      pkgs/main/linux-64::_libgcc_mutex-0.1-main\n",
      "  fribidi            conda-forge/linux-64::fribidi-1.0.5-h516909a_1002\n",
      "  shap               conda-forge/linux-64::shap-0.29.3-py36hb3f55d8_0\n",
      "\n",
      "The following packages will be UPDATED:\n",
      "\n",
      "  ca-certificates                       2019.3.9-hecc5488_0 --> 2019.6.16-hecc5488_0\n",
      "  certifi                                   2019.3.9-py36_0 --> 2019.6.16-py36_1\n",
      "  openssl                                 1.1.1b-h14c3975_1 --> 1.1.1c-h516909a_0\n",
      "\n",
      "\n",
      "\n",
      "Downloading and Extracting Packages\n",
      "_libgcc_mutex-0.1    | 3 KB      | ##################################### | 100% \n",
      "certifi-2019.6.16    | 149 KB    | ##################################### | 100% \n",
      "ca-certificates-2019 | 145 KB    | ##################################### | 100% \n",
      "fribidi-1.0.5        | 112 KB    | ##################################### | 100% \n",
      "openssl-1.1.1c       | 2.1 MB    | ##################################### | 100% \n",
      "shap-0.29.3          | 324 KB    | ##################################### | 100% \n",
      "_anaconda_depends-20 | 5 KB      | ##################################### | 100% \n",
      "Preparing transaction: done\n",
      "Verifying transaction: done\n",
      "Executing transaction: failed\n",
      "ERROR conda.core.link:_execute(568): An error occurred while uninstalling package 'conda-forge::openssl-1.1.1b-h14c3975_1'.\n",
      "PermissionError(13, 'Permission denied')\n",
      "Attempting to roll back.\n",
      "\n",
      "Rolling back transaction: done\n",
      "\n",
      "[Errno 13] Permission denied: '/opt/conda3/lib/engines-1.1/afalg.so' -> '/opt/conda3/lib/engines-1.1/afalg.so.c~'\n",
      "\n",
      "Collecting matplotlib\n",
      "\u001b[?25l  Downloading https://files.pythonhosted.org/packages/57/4f/dd381ecf6c6ab9bcdaa8ea912e866dedc6e696756156d8ecc087e20817e2/matplotlib-3.1.1-cp36-cp36m-manylinux1_x86_64.whl (13.1MB)\n",
      "\u001b[K     |████████████████████████████████| 13.1MB 13.5MB/s eta 0:00:01\n",
      "\u001b[?25hRequirement already satisfied, skipping upgrade: kiwisolver>=1.0.1 in /opt/conda3/lib/python3.6/site-packages (from matplotlib) (1.1.0)\n",
      "Requirement already satisfied, skipping upgrade: cycler>=0.10 in /opt/conda3/lib/python3.6/site-packages (from matplotlib) (0.10.0)\n",
      "Requirement already satisfied, skipping upgrade: python-dateutil>=2.1 in /opt/conda3/lib/python3.6/site-packages (from matplotlib) (2.8.0)\n",
      "Requirement already satisfied, skipping upgrade: pyparsing!=2.0.4,!=2.1.2,!=2.1.6,>=2.0.1 in /opt/conda3/lib/python3.6/site-packages (from matplotlib) (2.4.0)\n",
      "Requirement already satisfied, skipping upgrade: numpy>=1.11 in /opt/conda3/lib/python3.6/site-packages (from matplotlib) (1.16.3)\n",
      "Requirement already satisfied, skipping upgrade: setuptools in /opt/conda3/lib/python3.6/site-packages (from kiwisolver>=1.0.1->matplotlib) (41.0.1)\n",
      "Requirement already satisfied, skipping upgrade: six in /opt/conda3/lib/python3.6/site-packages (from cycler>=0.10->matplotlib) (1.12.0)\n",
      "Installing collected packages: matplotlib\n",
      "  Found existing installation: matplotlib 3.0.3\n",
      "    Uninstalling matplotlib-3.0.3:\n",
      "      Successfully uninstalled matplotlib-3.0.3\n",
      "Successfully installed matplotlib-3.1.1\n"
     ]
    }
   ],
   "source": [
    "# Uncomment the below lines to install additional libraries. This will take a few minutes to execute.\n",
    "#!conda install --yes shap\n",
    "# !pip install --upgrade matplotlib"
   ]
  },
  {
   "cell_type": "markdown",
   "metadata": {
    "pycharm": {}
   },
   "source": [
    "#### To install shap and save image for repeated use:\n",
    "\n",
    "Click on the highlighted button to access the terminal. If the environment is stopped click on the play button to get it running again. Execute the above commands to install / upgrade the packages. \n",
    "\n",
    "<p>\n",
    "    <img src=\"../misc/images/env1.PNG\" alt=\"Environment\" style=\"height: 300px;\" align=\"left\" />\n",
    "    <br style=\"clear: both;\" />\n",
    "</p>\n",
    "\n",
    "Once the installations are complete, exit the terminal and click on the save button to save the custom image.\n",
    "\n",
    "Next, select the custom image for your environment \n",
    "* Click on the juptyer environment\n",
    "* Select the custom image from the dropdown list\n",
    "* Save and Restart\n",
    "\n",
    "<p>\n",
    "    <img src=\"../misc/images/image_select.PNG\" alt=\"Image\" style=\"height: 300px;\" align=\"left\" />\n",
    "    <br style=\"clear: both;\" />\n",
    "</p>"
   ]
  },
  {
   "cell_type": "code",
   "execution_count": 5,
   "metadata": {},
   "outputs": [
    {
     "name": "stdout",
     "output_type": "stream",
     "text": [
      "Collecting package metadata: done\n",
      "Solving environment: done\n",
      "\n",
      "\n",
      "==> WARNING: A newer version of conda exists. <==\n",
      "  current version: 4.6.14\n",
      "  latest version: 4.7.11\n",
      "\n",
      "Please update conda by running\n",
      "\n",
      "    $ conda update -n base conda\n",
      "\n",
      "\n",
      "\n",
      "## Package Plan ##\n",
      "\n",
      "  environment location: /opt/conda3\n",
      "\n",
      "  added / updated specs:\n",
      "    - shap\n",
      "\n",
      "\n",
      "The following NEW packages will be INSTALLED:\n",
      "\n",
      "  _anaconda_depends  pkgs/main/linux-64::_anaconda_depends-2019.03-py36_0\n",
      "  _libgcc_mutex      pkgs/main/linux-64::_libgcc_mutex-0.1-main\n",
      "  fribidi            conda-forge/linux-64::fribidi-1.0.5-h516909a_1002\n",
      "  shap               conda-forge/linux-64::shap-0.29.3-py36hb3f55d8_0\n",
      "\n",
      "The following packages will be UPDATED:\n",
      "\n",
      "  ca-certificates                       2019.3.9-hecc5488_0 --> 2019.6.16-hecc5488_0\n",
      "  certifi                                   2019.3.9-py36_0 --> 2019.6.16-py36_1\n",
      "  openssl                                 1.1.1b-h14c3975_1 --> 1.1.1c-h516909a_0\n",
      "\n",
      "\n",
      "Preparing transaction: done\n",
      "Verifying transaction: done\n",
      "Executing transaction: failed\n",
      "ERROR conda.core.link:_execute(568): An error occurred while uninstalling package 'conda-forge::openssl-1.1.1b-h14c3975_1'.\n",
      "PermissionError(13, 'Permission denied')\n",
      "Attempting to roll back.\n",
      "\n",
      "Rolling back transaction: done\n",
      "\n",
      "[Errno 13] Permission denied: '/opt/conda3/lib/engines-1.1/afalg.so' -> '/opt/conda3/lib/engines-1.1/afalg.so.c~'\n",
      "\n"
     ]
    }
   ],
   "source": [
    "!conda install --yes shap"
   ]
  },
  {
   "cell_type": "code",
   "execution_count": 4,
   "metadata": {
    "pycharm": {}
   },
   "outputs": [
    {
     "ename": "ModuleNotFoundError",
     "evalue": "No module named 'shap'",
     "output_type": "error",
     "traceback": [
      "\u001b[0;31m---------------------------------------------------------------------------\u001b[0m",
      "\u001b[0;31mModuleNotFoundError\u001b[0m                       Traceback (most recent call last)",
      "\u001b[0;32m<ipython-input-4-cd6376008c9d>\u001b[0m in \u001b[0;36m<module>\u001b[0;34m()\u001b[0m\n\u001b[1;32m      1\u001b[0m \u001b[0;31m# Import shap and display version\u001b[0m\u001b[0;34m\u001b[0m\u001b[0;34m\u001b[0m\u001b[0;34m\u001b[0m\u001b[0m\n\u001b[0;32m----> 2\u001b[0;31m \u001b[0;32mimport\u001b[0m \u001b[0mshap\u001b[0m\u001b[0;34m\u001b[0m\u001b[0;34m\u001b[0m\u001b[0m\n\u001b[0m\u001b[1;32m      3\u001b[0m \u001b[0mshap\u001b[0m\u001b[0;34m.\u001b[0m\u001b[0m__version__\u001b[0m\u001b[0;34m\u001b[0m\u001b[0;34m\u001b[0m\u001b[0m\n",
      "\u001b[0;31mModuleNotFoundError\u001b[0m: No module named 'shap'"
     ]
    }
   ],
   "source": [
    "# Import shap and display version\n",
    "import shap\n",
    "shap.__version__"
   ]
  },
  {
   "cell_type": "markdown",
   "metadata": {
    "pycharm": {}
   },
   "source": [
    "### Build Input JSON Payload\n",
    "\n",
    "This code snippet is used eventually to test the webservice against a particular Customer. It passes the following fields ***Customer ID, Event dataset, scoring end date*** to load event data for selected Customers. "
   ]
  },
  {
   "cell_type": "code",
   "execution_count": 2,
   "metadata": {
    "pycharm": {},
    "scrolled": true
   },
   "outputs": [
    {
     "name": "stdout",
     "output_type": "stream",
     "text": [
      "{\n",
      "  \"args\": {\n",
      "    \"dataset_name\": \"event.csv\",\n",
      "    \"cust_id\": 1040,\n",
      "    \"sc_end_date\": \"2017-08-01\"\n",
      "  }\n",
      "}\n"
     ]
    }
   ],
   "source": [
    "import json\n",
    "\n",
    "cust_id = 1040\n",
    "payload = {\"args\": { \"dataset_name\": \"event.csv\", \"cust_id\": cust_id, \"sc_end_date\": \"2017-08-01\" }}\n",
    "\n",
    "print(json.dumps(payload, indent=2))"
   ]
  },
  {
   "cell_type": "markdown",
   "metadata": {
    "pycharm": {}
   },
   "source": [
    "### To Test the Scoring Pipeline -- LFE_Scoring_Pipeline.py script as a WEBSERVICE "
   ]
  },
  {
   "cell_type": "markdown",
   "metadata": {
    "pycharm": {}
   },
   "source": [
    "Go to the Assets tab. Choose the script LFE_Scoring_Pipeline.py from the list of scripts\n",
    "\n",
    "<br style=\"clear: both;\" />\n",
    "<p>\n",
    "    <img src=\"../misc/images/choose_ScriptFile.PNG\" alt=\"Choose Script\" style=\"height: 300px;\" align=\"left\" />\n",
    "    <br style=\"clear: both;\" />\n",
    "</p>\n",
    "\n",
    "<br style=\"clear: both;\" />"
   ]
  },
  {
   "cell_type": "markdown",
   "metadata": {
    "pycharm": {}
   },
   "source": [
    "In the right side of the open script select the Run Configuration icon & set the **script Category as Web Service** and Run the file.  The associated worker is shown here as well.\n",
    "\n",
    "<br style=\"clear: both;\" />\n",
    "<p>\n",
    "    <img src=\"../misc/images/web_service.PNG\" alt=\"Web Service\" style=\"height: 450px;\" align=\"left\" />\n",
    "    <br style=\"clear: both;\" />\n",
    "</p>\n",
    "\n",
    "<br style=\"clear: both;\" />\n"
   ]
  },
  {
   "cell_type": "markdown",
   "metadata": {
    "pycharm": {}
   },
   "source": [
    "<br style=\"clear: both;\" />\n",
    "Once this is done you are prompted with the following fields along with the commands to run the web service script. \n",
    "<p>\n",
    "    <img src=\"../misc/images/WS_prompt.PNG\" alt=\"Service details\" style=\"height: 450px;\" align=\"left\" />\n",
    "    <br style=\"clear: both;\" />\n",
    "</p>\n",
    "<br style=\"clear: both;\" />\n",
    "\n",
    "> **This is a temporary method of testing the webservice. For a permanent method you should permanently deploy the script as a webservice.** *(Steps to follow)*\n"
   ]
  },
  {
   "cell_type": "markdown",
   "metadata": {
    "pycharm": {}
   },
   "source": [
    "\n",
    "### Test Scoring Pipeline REST API Endpoint"
   ]
  },
  {
   "cell_type": "markdown",
   "metadata": {
    "pycharm": {}
   },
   "source": [
    "The test script generates a POST URL, copy the URL (up to the $function) and substitute it in the below ***test_endpoint*** and run the script to generate the json. \n",
    "You can find the test_endpoint in the cell below labelled with:\n",
    "**'https://url_of_webservice_script/test_score'**.\n",
    "\n",
    "\n",
    "The test will pass all the fields from the payload along with the path for the Scoring pipeline, the flag that mentions test/score, the test token (for authorization) and checks the response. \n",
    "\n",
    "Finally the result here would comprise of the prediction related information and other analytical information necessary to feature in the R Shiny dashboard. "
   ]
  },
  {
   "cell_type": "code",
   "execution_count": 3,
   "metadata": {
    "pycharm": {},
    "scrolled": false
   },
   "outputs": [
    {
     "name": "stderr",
     "output_type": "stream",
     "text": [
      "/opt/conda/lib/python3.6/site-packages/urllib3/connectionpool.py:858: InsecureRequestWarning: Unverified HTTPS request is being made. Adding certificate verification is strongly advised. See: https://urllib3.readthedocs.io/en/latest/advanced-usage.html#ssl-warnings\n",
      "  InsecureRequestWarning)\n"
     ]
    },
    {
     "name": "stdout",
     "output_type": "stream",
     "text": [
      "{\n",
      "  \"result\": {\n",
      "    \"LFE_RELOCATION\": {\n",
      "      \"classes\": [\n",
      "        0,\n",
      "        1\n",
      "      ],\n",
      "      \"probabilities\": [\n",
      "        [\n",
      "          0.0018076527749166793,\n",
      "          0.9981923472250833\n",
      "        ]\n",
      "      ],\n",
      "      \"predictions\": [\n",
      "        1\n",
      "      ],\n",
      "      \"explain\": {\n",
      "        \"E_XFER_FUNDS_OUT_LARGE_OM\": -0.2914497267690963,\n",
      "        \"E_XFER_FUNDS_OUT_LARGE_OW\": -0.25813705093030154,\n",
      "        \"E_XCT_EQ_BUY_OM\": -0.13278848817438457,\n",
      "        \"TOT_NB_OF_EVENTS_OW\": 0.12966124562728226,\n",
      "        \"E_XCT_EQ_SELL_OW\": 1.1851140633590225,\n",
      "        \"TOT_NB_OF_EVENTS_OM\": 2.699288482247062\n",
      "      },\n",
      "      \"explain_plot_html\": \"<div id='i5OZAPKUQY7AR9OC1LSTB'>\\n<div style='color: #900; text-align: center;'>\\n  <b>Visualization omitted, Javascript library not loaded!</b><br>\\n  Have you run `initjs()` in this notebook? If this notebook was from another\\n  user you must also trust this notebook (File -> Trust notebook). If you are viewing\\n  this notebook on github the Javascript has been stripped for security. If you are using\\n  JupyterLab this error is because a JupyterLab extension has not yet been written.\\n</div></div>\",\n",
      "      \"explain_plot_data\": \"{\\\"outNames\\\": [\\\"output value\\\"], \\\"baseValue\\\": 2.8665764223056076, \\\"outValue\\\": 6.31391679562625, \\\"link\\\": \\\"identity\\\", \\\"featureNames\\\": [\\\"E_ACNT_SEC_OPEN_*_OW\\\", \\\"E_BIRTHDAY24_OW\\\", \\\"E_BIRTHDAY26_OW\\\", \\\"E_BIRTHDAY27_OW\\\", \\\"E_BIRTHDAY28_OW\\\", \\\"E_BIRTHDAY29_OW\\\", \\\"E_BIRTHDAY32_OW\\\", \\\"E_BIRTHDAY35_OW\\\", \\\"E_BIRTHDAY36_OW\\\", \\\"E_BIRTHDAY39_OW\\\", \\\"E_BIRTHDAY40_OW\\\", \\\"E_BIRTHDAY42_OW\\\", \\\"E_BIRTHDAY51_OW\\\", \\\"E_BIRTHDAY52_OW\\\", \\\"E_BIRTHDAY54_OW\\\", \\\"E_BIRTHDAY55_OW\\\", \\\"E_BIRTHDAY59_OW\\\", \\\"E_BIRTHDAY68_OW\\\", \\\"E_BIRTHDAY71_OW\\\", \\\"E_BIRTHDAY73_OW\\\", \\\"E_BIRTHDAY75_OW\\\", \\\"E_BIRTHDAY76_OW\\\", \\\"E_BIRTHDAY77_OW\\\", \\\"E_BIRTHDAY79_OW\\\", \\\"E_BIRTHDAY80_OW\\\", \\\"E_BIRTHDAY83_OW\\\", \\\"E_INT_LOGIN_WEB_OW\\\", \\\"E_INT_OTHER_PHYSICAL_OW\\\", \\\"E_MENTION_LFE_HOME_PURCHASE_OW\\\", \\\"E_XCT_EQ_BUY_OW\\\", \\\"E_XCT_EQ_SELL_OW\\\", \\\"E_XCT_MORTGAGE_NEW_OW\\\", \\\"E_XFER_FUNDS_OUT_LARGE_OW\\\", \\\"E_ACNT_SEC_OPEN_*_OM\\\", \\\"E_BIRTHDAY24_OM\\\", \\\"E_BIRTHDAY27_OM\\\", \\\"E_BIRTHDAY28_OM\\\", \\\"E_BIRTHDAY39_OM\\\", \\\"E_BIRTHDAY55_OM\\\", \\\"E_BIRTHDAY68_OM\\\", \\\"E_BIRTHDAY73_OM\\\", \\\"E_BIRTHDAY77_OM\\\", \\\"E_INT_LOGIN_WEB_OM\\\", \\\"E_INT_OTHER_PHYSICAL_OM\\\", \\\"E_MENTION_LFE_HOME_PURCHASE_OM\\\", \\\"E_XCT_EQ_BUY_OM\\\", \\\"E_XCT_EQ_SELL_OM\\\", \\\"E_XCT_MORTGAGE_NEW_OM\\\", \\\"E_XFER_FUNDS_OUT_LARGE_OM\\\", \\\"MONTH\\\", \\\"TOT_NB_OF_EVENTS_OW\\\", \\\"TOT_NB_OF_EVENTS_OM\\\"], \\\"features\\\": {\\\"0\\\": {\\\"effect\\\": -0.004634170252060933, \\\"value\\\": 0.0}, \\\"1\\\": {\\\"effect\\\": 0.0017351160321783779, \\\"value\\\": 0.0}, \\\"2\\\": {\\\"effect\\\": -0.003210070458268774, \\\"value\\\": 0.0}, \\\"3\\\": {\\\"effect\\\": -0.0029860947404034164, \\\"value\\\": 0.0}, \\\"4\\\": {\\\"effect\\\": 2.5108577955095956e-06, \\\"value\\\": 0.0}, \\\"8\\\": {\\\"effect\\\": -0.0030085156461781585, \\\"value\\\": 0.0}, \\\"9\\\": {\\\"effect\\\": -1.3929129588371468e-06, \\\"value\\\": 0.0}, \\\"15\\\": {\\\"effect\\\": 0.0004133026375567611, \\\"value\\\": 0.0}, \\\"17\\\": {\\\"effect\\\": -2.4358260585972776e-05, \\\"value\\\": 0.0}, \\\"18\\\": {\\\"effect\\\": 0.0008948989804989911, \\\"value\\\": 0.0}, \\\"20\\\": {\\\"effect\\\": 0.0003242538833546724, \\\"value\\\": 0.0}, \\\"22\\\": {\\\"effect\\\": -0.009274044451432258, \\\"value\\\": 0.0}, \\\"24\\\": {\\\"effect\\\": -0.01214251678337607, \\\"value\\\": 0.0}, \\\"26\\\": {\\\"effect\\\": 0.005978773576405626, \\\"value\\\": 6.0}, \\\"27\\\": {\\\"effect\\\": 0.1117694585591927, \\\"value\\\": 0.0}, \\\"28\\\": {\\\"effect\\\": -0.07327045346759613, \\\"value\\\": 0.0}, \\\"29\\\": {\\\"effect\\\": 2.2760656178146926e-05, \\\"value\\\": 6.0}, \\\"30\\\": {\\\"effect\\\": 1.1851140633590225, \\\"value\\\": 2.0}, \\\"31\\\": {\\\"effect\\\": 0.11748248123319467, \\\"value\\\": 0.0}, \\\"32\\\": {\\\"effect\\\": -0.25813705093030154, \\\"value\\\": 0.0}, \\\"33\\\": {\\\"effect\\\": -0.0009602750775568272, \\\"value\\\": 0.0}, \\\"34\\\": {\\\"effect\\\": 2.6993509912564135e-07, \\\"value\\\": 0.0}, \\\"35\\\": {\\\"effect\\\": -0.002610787420496288, \\\"value\\\": 0.0}, \\\"36\\\": {\\\"effect\\\": 2.9231931799903934e-06, \\\"value\\\": 0.0}, \\\"37\\\": {\\\"effect\\\": -2.558796446142461e-07, \\\"value\\\": 0.0}, \\\"38\\\": {\\\"effect\\\": 0.00024036015003562678, \\\"value\\\": 0.0}, \\\"39\\\": {\\\"effect\\\": -2.448331213514438e-05, \\\"value\\\": 0.0}, \\\"41\\\": {\\\"effect\\\": 2.374630562922782e-06, \\\"value\\\": 0.0}, \\\"42\\\": {\\\"effect\\\": 0.009620700663810683, \\\"value\\\": 0.0}, \\\"43\\\": {\\\"effect\\\": -0.0012912534057733054, \\\"value\\\": 0.0}, \\\"44\\\": {\\\"effect\\\": -0.00384895936664587, \\\"value\\\": 0.0}, \\\"45\\\": {\\\"effect\\\": -0.13278848817438457, \\\"value\\\": 0.0}, \\\"46\\\": {\\\"effect\\\": 0.027130445553376972, \\\"value\\\": 0.0}, \\\"47\\\": {\\\"effect\\\": -0.0010049527880562517, \\\"value\\\": 0.0}, \\\"48\\\": {\\\"effect\\\": -0.2914497267690963, \\\"value\\\": 0.0}, \\\"49\\\": {\\\"effect\\\": -0.04167619835819364, \\\"value\\\": 8.0}, \\\"50\\\": {\\\"effect\\\": 0.12966124562728226, \\\"value\\\": 14.0}, \\\"51\\\": {\\\"effect\\\": 2.699288482247062, \\\"value\\\": 0.0}}, \\\"plot_cmap\\\": \\\"RdBu\\\", \\\"labelMargin\\\": 20}\",\n",
      "      \"explain_plot_elem_id\": \"i5OZAPKUQY7AR9OC1LSTB\"\n",
      "    },\n",
      "    \"LFE_HOME_PURCHASE\": {\n",
      "      \"classes\": [\n",
      "        0,\n",
      "        1\n",
      "      ],\n",
      "      \"probabilities\": [\n",
      "        [\n",
      "          0.6663680180848095,\n",
      "          0.3336319819151902\n",
      "        ]\n",
      "      ],\n",
      "      \"predictions\": [\n",
      "        0\n",
      "      ],\n",
      "      \"explain\": {\n",
      "        \"TOT_NB_OF_EVENTS_OM\": -0.03427629168442545,\n",
      "        \"E_INT_LOGIN_WEB_OM\": -0.03371070348626699,\n",
      "        \"E_LFE_RELOCATION_OW\": -0.01882437257752434,\n",
      "        \"E_INT_LOGIN_WEB_OW\": 0.08354242808369854,\n",
      "        \"E_XCT_EQ_BUY_OW\": 0.09814950739793067,\n",
      "        \"TOT_NB_OF_EVENTS_OW\": 0.12726128175149393\n",
      "      },\n",
      "      \"explain_plot_html\": \"<div id='iV4J7EG5RVD9YA6BSS0JC'>\\n<div style='color: #900; text-align: center;'>\\n  <b>Visualization omitted, Javascript library not loaded!</b><br>\\n  Have you run `initjs()` in this notebook? If this notebook was from another\\n  user you must also trust this notebook (File -> Trust notebook). If you are viewing\\n  this notebook on github the Javascript has been stripped for security. If you are using\\n  JupyterLab this error is because a JupyterLab extension has not yet been written.\\n</div></div>\",\n",
      "      \"explain_plot_data\": \"{\\\"outNames\\\": [\\\"output value\\\"], \\\"baseValue\\\": 0.3717545687686652, \\\"outValue\\\": 0.6663680308147547, \\\"link\\\": \\\"identity\\\", \\\"featureNames\\\": [\\\"E_ACNT_SEC_OPEN_*_OW\\\", \\\"E_BIRTHDAY26_OW\\\", \\\"E_BIRTHDAY27_OW\\\", \\\"E_BIRTHDAY28_OW\\\", \\\"E_BIRTHDAY32_OW\\\", \\\"E_BIRTHDAY35_OW\\\", \\\"E_BIRTHDAY36_OW\\\", \\\"E_BIRTHDAY39_OW\\\", \\\"E_BIRTHDAY40_OW\\\", \\\"E_BIRTHDAY42_OW\\\", \\\"E_BIRTHDAY43_OW\\\", \\\"E_BIRTHDAY44_OW\\\", \\\"E_BIRTHDAY50_OW\\\", \\\"E_BIRTHDAY52_OW\\\", \\\"E_BIRTHDAY55_OW\\\", \\\"E_BIRTHDAY59_OW\\\", \\\"E_BIRTHDAY61_OW\\\", \\\"E_BIRTHDAY62_OW\\\", \\\"E_BIRTHDAY68_OW\\\", \\\"E_BIRTHDAY69_OW\\\", \\\"E_BIRTHDAY70_OW\\\", \\\"E_BIRTHDAY71_OW\\\", \\\"E_BIRTHDAY72_OW\\\", \\\"E_BIRTHDAY73_OW\\\", \\\"E_BIRTHDAY74_OW\\\", \\\"E_BIRTHDAY75_OW\\\", \\\"E_BIRTHDAY77_OW\\\", \\\"E_BIRTHDAY79_OW\\\", \\\"E_BIRTHDAY80_OW\\\", \\\"E_BIRTHDAY81_OW\\\", \\\"E_BIRTHDAY82_OW\\\", \\\"E_INT_LOGIN_WEB_OW\\\", \\\"E_INT_OTHER_PHYSICAL_OW\\\", \\\"E_LFE_RELOCATION_OW\\\", \\\"E_MENTION_LFE_HOME_PURCHASE_OW\\\", \\\"E_XCT_EQ_BUY_OW\\\", \\\"E_XCT_EQ_SELL_OW\\\", \\\"E_XCT_MORTGAGE_NEW_OW\\\", \\\"E_XFER_FUNDS_OUT_LARGE_OW\\\", \\\"E_ACNT_SEC_OPEN_*_OM\\\", \\\"E_BIRTHDAY27_OM\\\", \\\"E_BIRTHDAY35_OM\\\", \\\"E_BIRTHDAY39_OM\\\", \\\"E_BIRTHDAY44_OM\\\", \\\"E_BIRTHDAY55_OM\\\", \\\"E_BIRTHDAY62_OM\\\", \\\"E_BIRTHDAY69_OM\\\", \\\"E_BIRTHDAY70_OM\\\", \\\"E_BIRTHDAY72_OM\\\", \\\"E_BIRTHDAY74_OM\\\", \\\"E_BIRTHDAY75_OM\\\", \\\"E_BIRTHDAY77_OM\\\", \\\"E_BIRTHDAY79_OM\\\", \\\"E_BIRTHDAY82_OM\\\", \\\"E_INT_LOGIN_WEB_OM\\\", \\\"E_INT_OTHER_PHYSICAL_OM\\\", \\\"E_LFE_RELOCATION_OM\\\", \\\"E_MENTION_LFE_HOME_PURCHASE_OM\\\", \\\"E_XCT_EQ_BUY_OM\\\", \\\"E_XCT_EQ_SELL_OM\\\", \\\"E_XCT_MORTGAGE_NEW_OM\\\", \\\"E_XFER_FUNDS_OUT_LARGE_OM\\\", \\\"MONTH\\\", \\\"TOT_NB_OF_EVENTS_OW\\\", \\\"TOT_NB_OF_EVENTS_OM\\\"], \\\"features\\\": {\\\"0\\\": {\\\"effect\\\": -0.005598322847831572, \\\"value\\\": 0.0}, \\\"1\\\": {\\\"effect\\\": 0.0016121830604961607, \\\"value\\\": 0.0}, \\\"2\\\": {\\\"effect\\\": 0.00042836850568962395, \\\"value\\\": 0.0}, \\\"3\\\": {\\\"effect\\\": 0.000643552367318006, \\\"value\\\": 0.0}, \\\"4\\\": {\\\"effect\\\": 0.0018512352157138206, \\\"value\\\": 0.0}, \\\"5\\\": {\\\"effect\\\": 0.0014645342749530236, \\\"value\\\": 0.0}, \\\"6\\\": {\\\"effect\\\": 0.0003219988201095441, \\\"value\\\": 0.0}, \\\"7\\\": {\\\"effect\\\": -0.0001502384766170126, \\\"value\\\": 0.0}, \\\"8\\\": {\\\"effect\\\": 0.0014026245118776669, \\\"value\\\": 0.0}, \\\"9\\\": {\\\"effect\\\": 0.002626514013842416, \\\"value\\\": 0.0}, \\\"10\\\": {\\\"effect\\\": -1.7934350850002068e-05, \\\"value\\\": 0.0}, \\\"14\\\": {\\\"effect\\\": -2.136591918521308e-05, \\\"value\\\": 0.0}, \\\"16\\\": {\\\"effect\\\": 0.0009220502631709245, \\\"value\\\": 0.0}, \\\"17\\\": {\\\"effect\\\": -4.040197825680751e-05, \\\"value\\\": 0.0}, \\\"18\\\": {\\\"effect\\\": -0.0001922548734404639, \\\"value\\\": 0.0}, \\\"20\\\": {\\\"effect\\\": -0.00011547087626839459, \\\"value\\\": 0.0}, \\\"21\\\": {\\\"effect\\\": -3.982233077892477e-05, \\\"value\\\": 0.0}, \\\"22\\\": {\\\"effect\\\": -3.407550688619765e-05, \\\"value\\\": 0.0}, \\\"23\\\": {\\\"effect\\\": -5.50706114627089e-05, \\\"value\\\": 0.0}, \\\"24\\\": {\\\"effect\\\": -4.1324203633536546e-05, \\\"value\\\": 0.0}, \\\"25\\\": {\\\"effect\\\": -0.00048261181134468667, \\\"value\\\": 0.0}, \\\"26\\\": {\\\"effect\\\": 0.0009572349289650246, \\\"value\\\": 0.0}, \\\"28\\\": {\\\"effect\\\": -0.00010418535032516797, \\\"value\\\": 0.0}, \\\"29\\\": {\\\"effect\\\": -0.0002613618366578074, \\\"value\\\": 0.0}, \\\"30\\\": {\\\"effect\\\": -0.00031113846664135325, \\\"value\\\": 0.0}, \\\"31\\\": {\\\"effect\\\": 0.08354242808369854, \\\"value\\\": 6.0}, \\\"32\\\": {\\\"effect\\\": 0.005754744781036149, \\\"value\\\": 0.0}, \\\"33\\\": {\\\"effect\\\": -0.01882437257752434, \\\"value\\\": 0.0}, \\\"34\\\": {\\\"effect\\\": 0.0008878037820422383, \\\"value\\\": 0.0}, \\\"35\\\": {\\\"effect\\\": 0.09814950739793067, \\\"value\\\": 6.0}, \\\"36\\\": {\\\"effect\\\": 0.007426597076187611, \\\"value\\\": 2.0}, \\\"37\\\": {\\\"effect\\\": 0.01693199406120876, \\\"value\\\": 0.0}, \\\"38\\\": {\\\"effect\\\": 0.04018890658987918, \\\"value\\\": 0.0}, \\\"39\\\": {\\\"effect\\\": -0.0035215861750961673, \\\"value\\\": 0.0}, \\\"40\\\": {\\\"effect\\\": 0.0008444606038973653, \\\"value\\\": 0.0}, \\\"41\\\": {\\\"effect\\\": 0.0013999908990224856, \\\"value\\\": 0.0}, \\\"42\\\": {\\\"effect\\\": -0.00031507978430234254, \\\"value\\\": 0.0}, \\\"44\\\": {\\\"effect\\\": -3.702754739154951e-05, \\\"value\\\": 0.0}, \\\"45\\\": {\\\"effect\\\": -3.271122315771517e-05, \\\"value\\\": 0.0}, \\\"47\\\": {\\\"effect\\\": -7.25340847814473e-05, \\\"value\\\": 0.0}, \\\"48\\\": {\\\"effect\\\": -2.27678154908666e-05, \\\"value\\\": 0.0}, \\\"49\\\": {\\\"effect\\\": -2.3143277476943364e-05, \\\"value\\\": 0.0}, \\\"50\\\": {\\\"effect\\\": -3.844390560740231e-05, \\\"value\\\": 0.0}, \\\"51\\\": {\\\"effect\\\": -2.6892404791664427e-05, \\\"value\\\": 0.0}, \\\"54\\\": {\\\"effect\\\": -0.03371070348626699, \\\"value\\\": 0.0}, \\\"55\\\": {\\\"effect\\\": -0.008868805028298133, \\\"value\\\": 0.0}, \\\"56\\\": {\\\"effect\\\": -0.0009928875720162816, \\\"value\\\": 0.0}, \\\"57\\\": {\\\"effect\\\": 0.00022083172043762842, \\\"value\\\": 0.0}, \\\"58\\\": {\\\"effect\\\": -0.013638309163448901, \\\"value\\\": 0.0}, \\\"59\\\": {\\\"effect\\\": 0.003298286098542557, \\\"value\\\": 0.0}, \\\"60\\\": {\\\"effect\\\": -0.0028048426162434587, \\\"value\\\": 0.0}, \\\"61\\\": {\\\"effect\\\": 0.01558287253259445, \\\"value\\\": 0.0}, \\\"62\\\": {\\\"effect\\\": 0.005565438492481296, \\\"value\\\": 8.0}, \\\"63\\\": {\\\"effect\\\": 0.12726128175149393, \\\"value\\\": 14.0}, \\\"64\\\": {\\\"effect\\\": -0.03427629168442545, \\\"value\\\": 0.0}}, \\\"plot_cmap\\\": \\\"RdBu\\\", \\\"labelMargin\\\": 20}\",\n",
      "      \"explain_plot_elem_id\": \"iV4J7EG5RVD9YA6BSS0JC\"\n",
      "    }\n",
      "  },\n",
      "  \"stdout\": [\n",
      "    \"Before removing dates that are not in training period : (126, 3)\",\n",
      "    \"After removing dates that are not in training period : (62, 3)\",\n",
      "    \"\",\n",
      "    \"Number of customers before checking for enough history : 1\",\n",
      "    \"Number of customers after  checking for enough history : 1\",\n",
      "    \"\",\n",
      "    \"Total number of events in the data : 62\",\n",
      "    \"\",\n",
      "    \"\",\n",
      "    \"Prepping data for LFE_RELOCATION\",\n",
      "    \"Using observation_window = 4\",\n",
      "    \"Using forecast_horizon = 3\",\n",
      "    \"Number of customers before removing those with no event data in observation window : 1\",\n",
      "    \"Number of customers after removing those with no event data in observation window : 1\",\n",
      "    \"\",\n",
      "    \"Prepping data for LFE_HOME_PURCHASE\",\n",
      "    \"Using observation_window = 4\",\n",
      "    \"Using forecast_horizon = 3\",\n",
      "    \"Number of customers before removing those with no event data in observation window : 1\",\n",
      "    \"Number of customers after removing those with no event data in observation window : 1\"\n",
      "  ],\n",
      "  \"stderr\": []\n",
      "}\n"
     ]
    }
   ],
   "source": [
    "import os, requests\n",
    "\n",
    "test_endpoint ='https://169.38.121.134:31843/dsx-py36-script/ibmdsxuser-1042/1566269961507/test_score'\n",
    "test_token = os.environ['DSX_TOKEN']\n",
    "\n",
    "test_payload = payload.copy()\n",
    "test_payload[\"relativeScriptPath\"] = \"scripts/LFE_Scoring_Pipeline.py\"\n",
    "\n",
    "headers = {'Content-Type': 'application/json', 'Authorization': test_token}\n",
    "response_scoring = requests.post(test_endpoint, json=test_payload, headers=headers, verify=False)\n",
    "\n",
    "try:\n",
    "    response_dict = response_scoring.json()\n",
    "    print(json.dumps(response_dict, indent=2))\n",
    "except:\n",
    "    print(response_scoring.text)"
   ]
  },
  {
   "cell_type": "markdown",
   "metadata": {
    "pycharm": {}
   },
   "source": [
    "## Release and Deploy Model Scoring REST API Endpoint\n",
    "\n",
    "Now that we've confirmed that the model scoring REST API is working, we are ready to release the project and deploy the script to production."
   ]
  },
  {
   "cell_type": "markdown",
   "metadata": {
    "pycharm": {}
   },
   "source": [
    "### Commit Changes\n",
    "\n",
    "First, you must commit your changes. To do this, click the **Git Actions** dropdown and select **Commit**\n",
    "\n",
    "<p>\n",
    "    <img src=\"../misc/images/commit_changes.png\" alt=\"commit_changes\" style=\"height: 250px;\" align=\"left\" />\n",
    "    <br style=\"clear: both;\" />\n",
    "</p>\n",
    "\n",
    "Review the changes, enter a commit message, then commit."
   ]
  },
  {
   "cell_type": "markdown",
   "metadata": {
    "pycharm": {}
   },
   "source": [
    "### Tag and Push\n",
    "\n",
    "> After you've committed, you should see a banner pop up at the top of the screen informing that you can push the commited changes\n",
    "\n",
    "<p>\n",
    "    <img src=\"../misc/images/push_banner.png\" alt=\"commit_changes\" style=\"height: 150px;\" align=\"left\" />\n",
    "    <br style=\"clear: both;\" />\n",
    "</p>\n",
    "\n",
    "> Alternately, you can click the same **Git Actions** dropdown and select **Push**\n",
    "\n",
    "> In the dialog that appears, fill in the field to **Create version tag for release**\n",
    "\n",
    "<p>\n",
    "    <img src=\"../misc/images/push_dialog.png\" alt=\"commit_changes\" style=\"height: 300px;\" align=\"left\" />\n",
    "    <br style=\"clear: both;\" />\n",
    "</p>\n",
    "\n",
    "> And then click **Push**"
   ]
  },
  {
   "cell_type": "markdown",
   "metadata": {
    "pycharm": {}
   },
   "source": [
    "## Release the Project"
   ]
  },
  {
   "cell_type": "markdown",
   "metadata": {
    "pycharm": {}
   },
   "source": [
    "ICP for Data creates a project release out of the state of a project at any given point in time as denoted by a user-defined tag mentioned above. After the project release is created, assets within this project release can then be deployed.\n",
    "\n",
    "**TO CREATE THE PROJECT RELEASE**\n",
    "\n",
    "> From the menu, administer > manage deployments\n",
    "\n",
    "> Go to add project release. Select the source, whether to import from the ICP for Data, Git Repository or a local file. Fill in the details. \n",
    "\n",
    "> The name can contain hyphens but not special characters such as a period (.).\n",
    "\n",
    "> The route is the unique ID for the project release, and is used within the deployments' REST paths and URLs. It can contain at least 2 and at most 26 lowercase alphanumeric characters and hyphens, and must start with a letter and end with a letter or number.\n",
    "\n",
    "> It would require a Git token in case the Project is being exported from a Git Repository, also the associated **version tag for release**.\n",
    "\n",
    "<p>\n",
    "    <img src=\"../misc/images/proj_release_.jpg\" alt=\"commit_changes\" style=\"height: 500px;\" align=\"left\" />\n",
    "    <br style=\"clear: both;\" />\n",
    "</p> \n",
    "<br style=\"clear: both;\" />\n",
    "\n",
    ">*An overview of the Project can be viewed in the Project Release Dashboard.*"
   ]
  },
  {
   "cell_type": "markdown",
   "metadata": {
    "pycharm": {}
   },
   "source": [
    "\n",
    "**After completing the release, Go to the Project Release details page and click on the Launch(play) button.** \n",
    "\n",
    "<p>\n",
    "           <img src=\"../misc/images/webservice_Deploy.PNG\" alt=\"Service details\" style=\"height: 400px;\" align=\"left\" />\n",
    "           <br style=\"clear: both;\" />     \n",
    "</p>\n",
    "\n",
    "<br style=\"clear: both;\" /> \n",
    "\n",
    "\n",
    "> In the Assets tab, select the LFE_Scoring_Pipeline.py script from the left side of the assets tab.  On the right side, click the button to create a web service. The Create web service deployment window opens. This will allow the deployment of the script as a webservice permanently for production purposes rather than a test.\n",
    "\n",
    "> Select the image created earlier.\n",
    "\n",
    "<br style=\"clear: both;\" />     \n",
    "\n",
    "\n",
    "> You are prompted with fields such as follows : (Name, URL, Web Service Environment, etc) \n",
    "     <p>\n",
    "           <img src=\"../misc/images/create_WS.PNG\" alt=\"Service details\" style=\"height: 500px;\" align=\"left\" />\n",
    "           <br style=\"clear: both;\" />     \n",
    "    </p>\n",
    "\n",
    "<br style=\"clear: both;\" /> \n",
    "\n",
    "> Once the field are specified and webservice is deployed, the endpoint for the same is displayed. It must be enabled under the assets tab under the project releases. Go to **Respective Project Release > Asset tab > Select LFE_Scoring_Pipeline > Availability setting > Enable**  "
   ]
  },
  {
   "cell_type": "markdown",
   "metadata": {
    "pycharm": {}
   },
   "source": [
    "### Running the script as a Web Service using the created Endpoint and Deployment Token"
   ]
  },
  {
   "cell_type": "markdown",
   "metadata": {
    "pycharm": {}
   },
   "source": [
    "From Deployments tab, click on the web service. Copy the Endpoint and the deployment token from the deployed webservice and paste into the cell below replacing the DEPLOYMENT_ENDPOINT and DEPLOYMENT_TK values.\n",
    "\n",
    "<p>\n",
    "       <img src=\"../misc/images/endpoint.PNG\" alt=\"Service details\" style=\"height: 450px;\" align=\"left\" />\n",
    "       <br style=\"clear: both;\" />     \n",
    "</p>\n",
    "\n",
    "**'https://endpoint_post_url_of_deployed_webservice_script/score'**"
   ]
  },
  {
   "cell_type": "code",
   "execution_count": 5,
   "metadata": {
    "pycharm": {},
    "scrolled": false
   },
   "outputs": [
    {
     "name": "stderr",
     "output_type": "stream",
     "text": [
      "/opt/conda/lib/python3.6/site-packages/urllib3/connectionpool.py:858: InsecureRequestWarning: Unverified HTTPS request is being made. Adding certificate verification is strongly advised. See: https://urllib3.readthedocs.io/en/latest/advanced-usage.html#ssl-warnings\n",
      "  InsecureRequestWarning)\n"
     ]
    },
    {
     "name": "stdout",
     "output_type": "stream",
     "text": [
      "{\n",
      "  \"result\": {\n",
      "    \"LFE_RELOCATION\": {\n",
      "      \"classes\": [\n",
      "        0,\n",
      "        1\n",
      "      ],\n",
      "      \"probabilities\": [\n",
      "        [\n",
      "          0.0018076527749166793,\n",
      "          0.9981923472250833\n",
      "        ]\n",
      "      ],\n",
      "      \"predictions\": [\n",
      "        1\n",
      "      ],\n",
      "      \"explain\": {\n",
      "        \"E_XFER_FUNDS_OUT_LARGE_OM\": -0.2914497267690963,\n",
      "        \"E_XFER_FUNDS_OUT_LARGE_OW\": -0.25813705093030154,\n",
      "        \"E_XCT_EQ_BUY_OM\": -0.13278848817438457,\n",
      "        \"TOT_NB_OF_EVENTS_OW\": 0.12966124562728226,\n",
      "        \"E_XCT_EQ_SELL_OW\": 1.1851140633590225,\n",
      "        \"TOT_NB_OF_EVENTS_OM\": 2.699288482247062\n",
      "      },\n",
      "      \"explain_plot_html\": \"<div id='iNV056XOVV3ZXTLD477J3'>\\n<div style='color: #900; text-align: center;'>\\n  <b>Visualization omitted, Javascript library not loaded!</b><br>\\n  Have you run `initjs()` in this notebook? If this notebook was from another\\n  user you must also trust this notebook (File -> Trust notebook). If you are viewing\\n  this notebook on github the Javascript has been stripped for security. If you are using\\n  JupyterLab this error is because a JupyterLab extension has not yet been written.\\n</div></div>\",\n",
      "      \"explain_plot_data\": \"{\\\"outNames\\\": [\\\"output value\\\"], \\\"baseValue\\\": 2.8665764223056076, \\\"outValue\\\": 6.31391679562625, \\\"link\\\": \\\"identity\\\", \\\"featureNames\\\": [\\\"E_ACNT_SEC_OPEN_*_OW\\\", \\\"E_BIRTHDAY24_OW\\\", \\\"E_BIRTHDAY26_OW\\\", \\\"E_BIRTHDAY27_OW\\\", \\\"E_BIRTHDAY28_OW\\\", \\\"E_BIRTHDAY29_OW\\\", \\\"E_BIRTHDAY32_OW\\\", \\\"E_BIRTHDAY35_OW\\\", \\\"E_BIRTHDAY36_OW\\\", \\\"E_BIRTHDAY39_OW\\\", \\\"E_BIRTHDAY40_OW\\\", \\\"E_BIRTHDAY42_OW\\\", \\\"E_BIRTHDAY51_OW\\\", \\\"E_BIRTHDAY52_OW\\\", \\\"E_BIRTHDAY54_OW\\\", \\\"E_BIRTHDAY55_OW\\\", \\\"E_BIRTHDAY59_OW\\\", \\\"E_BIRTHDAY68_OW\\\", \\\"E_BIRTHDAY71_OW\\\", \\\"E_BIRTHDAY73_OW\\\", \\\"E_BIRTHDAY75_OW\\\", \\\"E_BIRTHDAY76_OW\\\", \\\"E_BIRTHDAY77_OW\\\", \\\"E_BIRTHDAY79_OW\\\", \\\"E_BIRTHDAY80_OW\\\", \\\"E_BIRTHDAY83_OW\\\", \\\"E_INT_LOGIN_WEB_OW\\\", \\\"E_INT_OTHER_PHYSICAL_OW\\\", \\\"E_MENTION_LFE_HOME_PURCHASE_OW\\\", \\\"E_XCT_EQ_BUY_OW\\\", \\\"E_XCT_EQ_SELL_OW\\\", \\\"E_XCT_MORTGAGE_NEW_OW\\\", \\\"E_XFER_FUNDS_OUT_LARGE_OW\\\", \\\"E_ACNT_SEC_OPEN_*_OM\\\", \\\"E_BIRTHDAY24_OM\\\", \\\"E_BIRTHDAY27_OM\\\", \\\"E_BIRTHDAY28_OM\\\", \\\"E_BIRTHDAY39_OM\\\", \\\"E_BIRTHDAY55_OM\\\", \\\"E_BIRTHDAY68_OM\\\", \\\"E_BIRTHDAY73_OM\\\", \\\"E_BIRTHDAY77_OM\\\", \\\"E_INT_LOGIN_WEB_OM\\\", \\\"E_INT_OTHER_PHYSICAL_OM\\\", \\\"E_MENTION_LFE_HOME_PURCHASE_OM\\\", \\\"E_XCT_EQ_BUY_OM\\\", \\\"E_XCT_EQ_SELL_OM\\\", \\\"E_XCT_MORTGAGE_NEW_OM\\\", \\\"E_XFER_FUNDS_OUT_LARGE_OM\\\", \\\"MONTH\\\", \\\"TOT_NB_OF_EVENTS_OW\\\", \\\"TOT_NB_OF_EVENTS_OM\\\"], \\\"features\\\": {\\\"0\\\": {\\\"effect\\\": -0.004634170252060933, \\\"value\\\": 0.0}, \\\"1\\\": {\\\"effect\\\": 0.0017351160321783779, \\\"value\\\": 0.0}, \\\"2\\\": {\\\"effect\\\": -0.003210070458268774, \\\"value\\\": 0.0}, \\\"3\\\": {\\\"effect\\\": -0.0029860947404034164, \\\"value\\\": 0.0}, \\\"4\\\": {\\\"effect\\\": 2.5108577955095956e-06, \\\"value\\\": 0.0}, \\\"8\\\": {\\\"effect\\\": -0.0030085156461781585, \\\"value\\\": 0.0}, \\\"9\\\": {\\\"effect\\\": -1.3929129588371468e-06, \\\"value\\\": 0.0}, \\\"15\\\": {\\\"effect\\\": 0.0004133026375567611, \\\"value\\\": 0.0}, \\\"17\\\": {\\\"effect\\\": -2.4358260585972776e-05, \\\"value\\\": 0.0}, \\\"18\\\": {\\\"effect\\\": 0.0008948989804989911, \\\"value\\\": 0.0}, \\\"20\\\": {\\\"effect\\\": 0.0003242538833546724, \\\"value\\\": 0.0}, \\\"22\\\": {\\\"effect\\\": -0.009274044451432258, \\\"value\\\": 0.0}, \\\"24\\\": {\\\"effect\\\": -0.01214251678337607, \\\"value\\\": 0.0}, \\\"26\\\": {\\\"effect\\\": 0.005978773576405626, \\\"value\\\": 6.0}, \\\"27\\\": {\\\"effect\\\": 0.1117694585591927, \\\"value\\\": 0.0}, \\\"28\\\": {\\\"effect\\\": -0.07327045346759613, \\\"value\\\": 0.0}, \\\"29\\\": {\\\"effect\\\": 2.2760656178146926e-05, \\\"value\\\": 6.0}, \\\"30\\\": {\\\"effect\\\": 1.1851140633590225, \\\"value\\\": 2.0}, \\\"31\\\": {\\\"effect\\\": 0.11748248123319467, \\\"value\\\": 0.0}, \\\"32\\\": {\\\"effect\\\": -0.25813705093030154, \\\"value\\\": 0.0}, \\\"33\\\": {\\\"effect\\\": -0.0009602750775568272, \\\"value\\\": 0.0}, \\\"34\\\": {\\\"effect\\\": 2.6993509912564135e-07, \\\"value\\\": 0.0}, \\\"35\\\": {\\\"effect\\\": -0.002610787420496288, \\\"value\\\": 0.0}, \\\"36\\\": {\\\"effect\\\": 2.9231931799903934e-06, \\\"value\\\": 0.0}, \\\"37\\\": {\\\"effect\\\": -2.558796446142461e-07, \\\"value\\\": 0.0}, \\\"38\\\": {\\\"effect\\\": 0.00024036015003562678, \\\"value\\\": 0.0}, \\\"39\\\": {\\\"effect\\\": -2.448331213514438e-05, \\\"value\\\": 0.0}, \\\"41\\\": {\\\"effect\\\": 2.374630562922782e-06, \\\"value\\\": 0.0}, \\\"42\\\": {\\\"effect\\\": 0.009620700663810683, \\\"value\\\": 0.0}, \\\"43\\\": {\\\"effect\\\": -0.0012912534057733054, \\\"value\\\": 0.0}, \\\"44\\\": {\\\"effect\\\": -0.00384895936664587, \\\"value\\\": 0.0}, \\\"45\\\": {\\\"effect\\\": -0.13278848817438457, \\\"value\\\": 0.0}, \\\"46\\\": {\\\"effect\\\": 0.027130445553376972, \\\"value\\\": 0.0}, \\\"47\\\": {\\\"effect\\\": -0.0010049527880562517, \\\"value\\\": 0.0}, \\\"48\\\": {\\\"effect\\\": -0.2914497267690963, \\\"value\\\": 0.0}, \\\"49\\\": {\\\"effect\\\": -0.04167619835819364, \\\"value\\\": 8.0}, \\\"50\\\": {\\\"effect\\\": 0.12966124562728226, \\\"value\\\": 14.0}, \\\"51\\\": {\\\"effect\\\": 2.699288482247062, \\\"value\\\": 0.0}}, \\\"plot_cmap\\\": \\\"RdBu\\\", \\\"labelMargin\\\": 20}\",\n",
      "      \"explain_plot_elem_id\": \"iNV056XOVV3ZXTLD477J3\"\n",
      "    },\n",
      "    \"LFE_HOME_PURCHASE\": {\n",
      "      \"classes\": [\n",
      "        0,\n",
      "        1\n",
      "      ],\n",
      "      \"probabilities\": [\n",
      "        [\n",
      "          0.6663680180848095,\n",
      "          0.3336319819151902\n",
      "        ]\n",
      "      ],\n",
      "      \"predictions\": [\n",
      "        0\n",
      "      ],\n",
      "      \"explain\": {\n",
      "        \"TOT_NB_OF_EVENTS_OM\": -0.03427629168442545,\n",
      "        \"E_INT_LOGIN_WEB_OM\": -0.03371070348626699,\n",
      "        \"E_LFE_RELOCATION_OW\": -0.01882437257752434,\n",
      "        \"E_INT_LOGIN_WEB_OW\": 0.08354242808369854,\n",
      "        \"E_XCT_EQ_BUY_OW\": 0.09814950739793067,\n",
      "        \"TOT_NB_OF_EVENTS_OW\": 0.12726128175149393\n",
      "      },\n",
      "      \"explain_plot_html\": \"<div id='iT0CHU5ONS2BXEVJY628G'>\\n<div style='color: #900; text-align: center;'>\\n  <b>Visualization omitted, Javascript library not loaded!</b><br>\\n  Have you run `initjs()` in this notebook? If this notebook was from another\\n  user you must also trust this notebook (File -> Trust notebook). If you are viewing\\n  this notebook on github the Javascript has been stripped for security. If you are using\\n  JupyterLab this error is because a JupyterLab extension has not yet been written.\\n</div></div>\",\n",
      "      \"explain_plot_data\": \"{\\\"outNames\\\": [\\\"output value\\\"], \\\"baseValue\\\": 0.3717545687686652, \\\"outValue\\\": 0.6663680308147547, \\\"link\\\": \\\"identity\\\", \\\"featureNames\\\": [\\\"E_ACNT_SEC_OPEN_*_OW\\\", \\\"E_BIRTHDAY26_OW\\\", \\\"E_BIRTHDAY27_OW\\\", \\\"E_BIRTHDAY28_OW\\\", \\\"E_BIRTHDAY32_OW\\\", \\\"E_BIRTHDAY35_OW\\\", \\\"E_BIRTHDAY36_OW\\\", \\\"E_BIRTHDAY39_OW\\\", \\\"E_BIRTHDAY40_OW\\\", \\\"E_BIRTHDAY42_OW\\\", \\\"E_BIRTHDAY43_OW\\\", \\\"E_BIRTHDAY44_OW\\\", \\\"E_BIRTHDAY50_OW\\\", \\\"E_BIRTHDAY52_OW\\\", \\\"E_BIRTHDAY55_OW\\\", \\\"E_BIRTHDAY59_OW\\\", \\\"E_BIRTHDAY61_OW\\\", \\\"E_BIRTHDAY62_OW\\\", \\\"E_BIRTHDAY68_OW\\\", \\\"E_BIRTHDAY69_OW\\\", \\\"E_BIRTHDAY70_OW\\\", \\\"E_BIRTHDAY71_OW\\\", \\\"E_BIRTHDAY72_OW\\\", \\\"E_BIRTHDAY73_OW\\\", \\\"E_BIRTHDAY74_OW\\\", \\\"E_BIRTHDAY75_OW\\\", \\\"E_BIRTHDAY77_OW\\\", \\\"E_BIRTHDAY79_OW\\\", \\\"E_BIRTHDAY80_OW\\\", \\\"E_BIRTHDAY81_OW\\\", \\\"E_BIRTHDAY82_OW\\\", \\\"E_INT_LOGIN_WEB_OW\\\", \\\"E_INT_OTHER_PHYSICAL_OW\\\", \\\"E_LFE_RELOCATION_OW\\\", \\\"E_MENTION_LFE_HOME_PURCHASE_OW\\\", \\\"E_XCT_EQ_BUY_OW\\\", \\\"E_XCT_EQ_SELL_OW\\\", \\\"E_XCT_MORTGAGE_NEW_OW\\\", \\\"E_XFER_FUNDS_OUT_LARGE_OW\\\", \\\"E_ACNT_SEC_OPEN_*_OM\\\", \\\"E_BIRTHDAY27_OM\\\", \\\"E_BIRTHDAY35_OM\\\", \\\"E_BIRTHDAY39_OM\\\", \\\"E_BIRTHDAY44_OM\\\", \\\"E_BIRTHDAY55_OM\\\", \\\"E_BIRTHDAY62_OM\\\", \\\"E_BIRTHDAY69_OM\\\", \\\"E_BIRTHDAY70_OM\\\", \\\"E_BIRTHDAY72_OM\\\", \\\"E_BIRTHDAY74_OM\\\", \\\"E_BIRTHDAY75_OM\\\", \\\"E_BIRTHDAY77_OM\\\", \\\"E_BIRTHDAY79_OM\\\", \\\"E_BIRTHDAY82_OM\\\", \\\"E_INT_LOGIN_WEB_OM\\\", \\\"E_INT_OTHER_PHYSICAL_OM\\\", \\\"E_LFE_RELOCATION_OM\\\", \\\"E_MENTION_LFE_HOME_PURCHASE_OM\\\", \\\"E_XCT_EQ_BUY_OM\\\", \\\"E_XCT_EQ_SELL_OM\\\", \\\"E_XCT_MORTGAGE_NEW_OM\\\", \\\"E_XFER_FUNDS_OUT_LARGE_OM\\\", \\\"MONTH\\\", \\\"TOT_NB_OF_EVENTS_OW\\\", \\\"TOT_NB_OF_EVENTS_OM\\\"], \\\"features\\\": {\\\"0\\\": {\\\"effect\\\": -0.005598322847831572, \\\"value\\\": 0.0}, \\\"1\\\": {\\\"effect\\\": 0.0016121830604961607, \\\"value\\\": 0.0}, \\\"2\\\": {\\\"effect\\\": 0.00042836850568962395, \\\"value\\\": 0.0}, \\\"3\\\": {\\\"effect\\\": 0.000643552367318006, \\\"value\\\": 0.0}, \\\"4\\\": {\\\"effect\\\": 0.0018512352157138206, \\\"value\\\": 0.0}, \\\"5\\\": {\\\"effect\\\": 0.0014645342749530236, \\\"value\\\": 0.0}, \\\"6\\\": {\\\"effect\\\": 0.0003219988201095441, \\\"value\\\": 0.0}, \\\"7\\\": {\\\"effect\\\": -0.0001502384766170126, \\\"value\\\": 0.0}, \\\"8\\\": {\\\"effect\\\": 0.0014026245118776669, \\\"value\\\": 0.0}, \\\"9\\\": {\\\"effect\\\": 0.002626514013842416, \\\"value\\\": 0.0}, \\\"10\\\": {\\\"effect\\\": -1.7934350850002068e-05, \\\"value\\\": 0.0}, \\\"14\\\": {\\\"effect\\\": -2.136591918521308e-05, \\\"value\\\": 0.0}, \\\"16\\\": {\\\"effect\\\": 0.0009220502631709245, \\\"value\\\": 0.0}, \\\"17\\\": {\\\"effect\\\": -4.040197825680751e-05, \\\"value\\\": 0.0}, \\\"18\\\": {\\\"effect\\\": -0.0001922548734404639, \\\"value\\\": 0.0}, \\\"20\\\": {\\\"effect\\\": -0.00011547087626839459, \\\"value\\\": 0.0}, \\\"21\\\": {\\\"effect\\\": -3.982233077892477e-05, \\\"value\\\": 0.0}, \\\"22\\\": {\\\"effect\\\": -3.407550688619765e-05, \\\"value\\\": 0.0}, \\\"23\\\": {\\\"effect\\\": -5.50706114627089e-05, \\\"value\\\": 0.0}, \\\"24\\\": {\\\"effect\\\": -4.1324203633536546e-05, \\\"value\\\": 0.0}, \\\"25\\\": {\\\"effect\\\": -0.00048261181134468667, \\\"value\\\": 0.0}, \\\"26\\\": {\\\"effect\\\": 0.0009572349289650246, \\\"value\\\": 0.0}, \\\"28\\\": {\\\"effect\\\": -0.00010418535032516797, \\\"value\\\": 0.0}, \\\"29\\\": {\\\"effect\\\": -0.0002613618366578074, \\\"value\\\": 0.0}, \\\"30\\\": {\\\"effect\\\": -0.00031113846664135325, \\\"value\\\": 0.0}, \\\"31\\\": {\\\"effect\\\": 0.08354242808369854, \\\"value\\\": 6.0}, \\\"32\\\": {\\\"effect\\\": 0.005754744781036149, \\\"value\\\": 0.0}, \\\"33\\\": {\\\"effect\\\": -0.01882437257752434, \\\"value\\\": 0.0}, \\\"34\\\": {\\\"effect\\\": 0.0008878037820422383, \\\"value\\\": 0.0}, \\\"35\\\": {\\\"effect\\\": 0.09814950739793067, \\\"value\\\": 6.0}, \\\"36\\\": {\\\"effect\\\": 0.007426597076187611, \\\"value\\\": 2.0}, \\\"37\\\": {\\\"effect\\\": 0.01693199406120876, \\\"value\\\": 0.0}, \\\"38\\\": {\\\"effect\\\": 0.04018890658987918, \\\"value\\\": 0.0}, \\\"39\\\": {\\\"effect\\\": -0.0035215861750961673, \\\"value\\\": 0.0}, \\\"40\\\": {\\\"effect\\\": 0.0008444606038973653, \\\"value\\\": 0.0}, \\\"41\\\": {\\\"effect\\\": 0.0013999908990224856, \\\"value\\\": 0.0}, \\\"42\\\": {\\\"effect\\\": -0.00031507978430234254, \\\"value\\\": 0.0}, \\\"44\\\": {\\\"effect\\\": -3.702754739154951e-05, \\\"value\\\": 0.0}, \\\"45\\\": {\\\"effect\\\": -3.271122315771517e-05, \\\"value\\\": 0.0}, \\\"47\\\": {\\\"effect\\\": -7.25340847814473e-05, \\\"value\\\": 0.0}, \\\"48\\\": {\\\"effect\\\": -2.27678154908666e-05, \\\"value\\\": 0.0}, \\\"49\\\": {\\\"effect\\\": -2.3143277476943364e-05, \\\"value\\\": 0.0}, \\\"50\\\": {\\\"effect\\\": -3.844390560740231e-05, \\\"value\\\": 0.0}, \\\"51\\\": {\\\"effect\\\": -2.6892404791664427e-05, \\\"value\\\": 0.0}, \\\"54\\\": {\\\"effect\\\": -0.03371070348626699, \\\"value\\\": 0.0}, \\\"55\\\": {\\\"effect\\\": -0.008868805028298133, \\\"value\\\": 0.0}, \\\"56\\\": {\\\"effect\\\": -0.0009928875720162816, \\\"value\\\": 0.0}, \\\"57\\\": {\\\"effect\\\": 0.00022083172043762842, \\\"value\\\": 0.0}, \\\"58\\\": {\\\"effect\\\": -0.013638309163448901, \\\"value\\\": 0.0}, \\\"59\\\": {\\\"effect\\\": 0.003298286098542557, \\\"value\\\": 0.0}, \\\"60\\\": {\\\"effect\\\": -0.0028048426162434587, \\\"value\\\": 0.0}, \\\"61\\\": {\\\"effect\\\": 0.01558287253259445, \\\"value\\\": 0.0}, \\\"62\\\": {\\\"effect\\\": 0.005565438492481296, \\\"value\\\": 8.0}, \\\"63\\\": {\\\"effect\\\": 0.12726128175149393, \\\"value\\\": 14.0}, \\\"64\\\": {\\\"effect\\\": -0.03427629168442545, \\\"value\\\": 0.0}}, \\\"plot_cmap\\\": \\\"RdBu\\\", \\\"labelMargin\\\": 20}\",\n",
      "      \"explain_plot_elem_id\": \"iT0CHU5ONS2BXEVJY628G\"\n",
      "    }\n",
      "  },\n",
      "  \"stdout\": [\n",
      "    \"Before removing dates that are not in training period : (126, 3)\",\n",
      "    \"After removing dates that are not in training period : (62, 3)\",\n",
      "    \"\",\n",
      "    \"Number of customers before checking for enough history : 1\",\n",
      "    \"Number of customers after  checking for enough history : 1\",\n",
      "    \"\",\n",
      "    \"Total number of events in the data : 62\",\n",
      "    \"\",\n",
      "    \"\",\n",
      "    \"Prepping data for LFE_RELOCATION\",\n",
      "    \"Using observation_window = 4\",\n",
      "    \"Using forecast_horizon = 3\",\n",
      "    \"Number of customers before removing those with no event data in observation window : 1\",\n",
      "    \"Number of customers after removing those with no event data in observation window : 1\",\n",
      "    \"\",\n",
      "    \"Prepping data for LFE_HOME_PURCHASE\",\n",
      "    \"Using observation_window = 4\",\n",
      "    \"Using forecast_horizon = 3\",\n",
      "    \"Number of customers before removing those with no event data in observation window : 1\",\n",
      "    \"Number of customers after removing those with no event data in observation window : 1\"\n",
      "  ],\n",
      "  \"stderr\": []\n",
      "}\n"
     ]
    }
   ],
   "source": [
    "import os, requests\n",
    "\n",
    "deployment_endpoint = '<DEPLOYMENT_ENDPOINT>/score'\n",
    "deployment_tk = '<DEPLOYMENT_TK>'\n",
    "\n",
    "headers = {'Content-Type': 'application/json', 'Authorization': deployment_tk}\n",
    "\n",
    "response_scoring = requests.post(deployment_endpoint, json=payload, headers=headers, verify=False)\n",
    "\n",
    "try:\n",
    "    response_dict = response_scoring.json()\n",
    "    print(json.dumps(response_dict, indent=2))\n",
    "except:\n",
    "    print(response_scoring.text)"
   ]
  },
  {
   "cell_type": "markdown",
   "metadata": {
    "pycharm": {}
   },
   "source": [
    "\n",
    "**Once the Webservice is confirmed to be running, proceed to the R Shiny Dashboard. <br>\n",
    "The R Shiny Dashboard invokes the scoring pipeline webservice for visualizing of the results.**"
   ]
  },
  {
   "cell_type": "markdown",
   "metadata": {},
   "source": [
    "## Deploy R Shiny Dashboard\n",
    "\n",
    "Now we are ready to set up our R Shiny Dashboard which will invoke the scoring pipeline from an application. \n",
    "\n",
    "<br/>\n",
    "\n",
    "Go back to the **Assets** tab of the project release and filter on **Shiny Apps**\n",
    "\n",
    "<p>\n",
    "    <img src=\"../misc/images/RShiny-1-FilterAssets.png\" alt=\"FilterAssets\" style=\"max-height: 400px;\" align=\"left\" />\n",
    "    <br style=\"clear: both;\" />     \n",
    "</p>\n",
    "<br/>\n",
    "\n",
    "You should then see a single asset in the list. Select it and then click the **+ app** button.\n",
    "\n",
    "<p>\n",
    "    <img src=\"../misc/images/RShiny-2-SingleAsset.png\" alt=\"SingleAsset\" style=\"max-height: 400px;\" align=\"left\" />\n",
    "    <br style=\"clear: both;\" />     \n",
    "</p>\n",
    "<br/>\n",
    "\n",
    "Give the dashboard a valid name, e.g. **dashboard** \n",
    "\n",
    "<p>\n",
    "    <img src=\"../misc/images/RShiny-3-DeploymentName.png\" alt=\"DeploymentName\" style=\"max-height: 300px;\" align=\"left\" />\n",
    "    <br style=\"clear: both;\" />     \n",
    "</p>\n",
    "<br/>\n",
    "\n",
    "Select the desired accessibility of the dashboard in the **Shared with** radio button menu and the click **Create**.\n",
    "\n",
    "<p>\n",
    "    <img src=\"../misc/images/RShiny-4-DeploymentAccess.png\" alt=\"DeploymentAccess\" style=\"max-height: 300px;\" align=\"left\" />\n",
    "    <br style=\"clear: both;\" />     \n",
    "</p>\n",
    "<br/>\n",
    "\n",
    "You should then see two deployments in the list: one for the model pipeline, the other for the dashboard.\n",
    "\n",
    "<p>\n",
    "    <img src=\"../misc/images/RShiny-5-DeploymentCreated.png\" alt=\"DeploymentCreated\" style=\"max-height: 400px;\" align=\"left\" />\n",
    "    <br style=\"clear: both;\" />     \n",
    "</p>\n",
    "<br/>\n",
    "\n",
    "The dashboard will take a minute or two to start up. You can refresh the status by navigating to another tab and then back. Once it's ready, you'll see a green **√ Enabled** status under **Availability**\n",
    "\n",
    "<p>\n",
    "    <img src=\"../misc/images/RShiny-6-DeploymentEnabled.png\" alt=\"DeploymentCreated\" style=\"max-height: 400px;\" align=\"left\" />\n",
    "    <br style=\"clear: both;\" />     \n",
    "</p>\n",
    "<br/>\n",
    "\n",
    "Click the menu button in the row of the dashboard deployment. Select **Share endpoint** from the menu.\n",
    "\n",
    "<p>\n",
    "    <img src=\"../misc/images/RShiny-7-ShareEndpoint.png\" alt=\"ShareEndpoint\" style=\"max-height: 400px;\" align=\"left\" />\n",
    "    <br style=\"clear: both;\" />     \n",
    "</p>\n",
    "<br/>\n",
    "\n",
    "A modal will pop up with the route of the dashboard. Copy it to a new tab in your browser and navigate to the link.\n",
    "\n",
    "<p>\n",
    "    <img src=\"../misc/images/RShiny-8-CopyRoute.png\" alt=\"CopyRoute\" style=\"max-height: 200px;\" align=\"left\" />\n",
    "    <br style=\"clear: both;\" />     \n",
    "</p>\n",
    "<br/>\n",
    "\n",
    "There may be some additional delay while the shiny server starts up. Refresh the page if it does not load the first time. You should then see the dashboard home page.\n",
    "\n",
    "<p>\n",
    "    <img src=\"../misc/images/RShiny-9-DashboardHome.png\" alt=\"DashboardHome\" style=\"max-height: 400px;\" align=\"left\" />\n",
    "    <br style=\"clear: both;\" />     \n",
    "</p>\n",
    "<br/>\n",
    "\n",
    "Click on one of the **Top Action Clients**.\n",
    "\n",
    "<p>\n",
    "    <img src=\"../misc/images/RShiny-10-ClientButton.png\" alt=\"ClientButton\" style=\"max-height: 400px;\" align=\"left\" />\n",
    "    <br style=\"clear: both;\" />     \n",
    "</p>\n",
    "<br/>\n",
    "\n",
    "This which will take you to the Client View page.\n",
    "\n",
    "<p>\n",
    "    <img src=\"../misc/images/RShiny-11-ClientView.png\" alt=\"Filter Assets\" style=\"max-height: 400px;\" align=\"left\" />\n",
    "    <br style=\"clear: both;\" />     \n",
    "</p>\n",
    "<br/>\n",
    "\n",
    "Scroll down to the **Life Event Prediction** panel at the bottom of the page.\n",
    "\n",
    "<p>\n",
    "    <img src=\"../misc/images/RShiny-12-PredictionPanel.png\" alt=\"PredictionPanel\" style=\"max-height: 400px;\" align=\"left\" />\n",
    "    <br style=\"clear: both;\" />\n",
    "</p>\n",
    "<br/>\n",
    "\n",
    "**NOTE:** You must have access to the scoring pipeline deployment before authenticating. If you did not create the scoring deployment yourself, be sure that the person who did gives you acccess to the project release so that you can see it in the deployments page (can be in any project release, even a different one from the dashboard)\n",
    "\n",
    "Enter your ICP4D username and password. This will search through all project releases that your user has access to, searching for valid scoring pipeline deployments to use.\n",
    "\n",
    "<p>\n",
    "    <img src=\"../misc/images/RShiny-13-Authenticate.png\" alt=\"Authenticate\" style=\"max-height: 400px;\" align=\"left\" />\n",
    "    <br style=\"clear: both;\" />     \n",
    "</p>\n",
    "<br/>\n",
    "\n",
    "You should then see a model deployment selected, with details. The **Script Name** should be \"LFE_Scoring_Pipeline.py\". You can now click **Predict Life Events**\n",
    "\n",
    "<p>\n",
    "    <img src=\"../misc/images/RShiny-14-SelectDeployment.png\" alt=\"SelectDeployment\" style=\"max-height: 400px;\" align=\"left\" />\n",
    "    <br style=\"clear: both;\" />     \n",
    "</p>\n",
    "<br/>\n",
    "\n",
    "The panel should then be populated with the life event prediction visuals and feature importance information.\n",
    "\n",
    "<p>\n",
    "    <img src=\"../misc/images/RShiny-15-Score.png\" alt=\"Score\" style=\"max-height: 400px;\" align=\"left\" />\n",
    "    <br style=\"clear: both;\" />     \n",
    "</p>\n",
    "\n",
    "Congratulations! You've predicted life events for the customer!"
   ]
  },
  {
   "cell_type": "code",
   "execution_count": null,
   "metadata": {},
   "outputs": [],
   "source": []
  }
 ],
 "metadata": {
  "kernelspec": {
   "display_name": "Python3.6",
   "language": "python",
   "name": "python3"
  },
  "language_info": {
   "codemirror_mode": {
    "name": "ipython",
    "version": 3
   },
   "file_extension": ".py",
   "mimetype": "text/x-python",
   "name": "python",
   "nbconvert_exporter": "python",
   "pygments_lexer": "ipython3",
   "version": "3.6.7"
  }
 },
 "nbformat": 4,
 "nbformat_minor": 2
}
